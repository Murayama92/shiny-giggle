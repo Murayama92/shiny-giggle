{
 "cells": [
  {
   "cell_type": "code",
   "execution_count": 126,
   "metadata": {},
   "outputs": [
    {
     "name": "stdout",
     "output_type": "stream",
     "text": [
      "    dealer_code  品番号  飲料カテゴリ      date  気温  売上  業種  INOUT\n",
      "0             1   33       9  2017/1/1   5  10   3      1\n",
      "1             1   33       9  2017/1/2   6  19   3      1\n",
      "2             1   34       8  2017/1/1   5  18   3      1\n",
      "3             1   34       8  2017/1/2   6  17   3      1\n",
      "4             1   35       7  2017/1/1   5  16   3      1\n",
      "5             1   35       7  2017/1/2   6  15   3      1\n",
      "6             1   36       8  2017/1/1   5  17   3      1\n",
      "7             1   36       8  2017/1/2   6  16   3      1\n",
      "8             2   38       7  2017/1/1   5  33   4      2\n",
      "9             2   38       7  2017/1/2   6   5   4      2\n",
      "10            2   40       6  2017/1/1   5  44   4      2\n",
      "11            2   40       6  2017/1/2   6  22   4      2\n",
      "12            2   33       9  2017/1/1   5  34   4      2\n",
      "13            2   33       9  2017/1/2   6  22   4      2\n",
      "[0.007633587786259555, 0.5, 0.5194564546016058, 1.0]\n"
     ]
    },
    {
     "name": "stderr",
     "output_type": "stream",
     "text": [
      "C:\\Users\\murayama\\Anaconda3\\lib\\site-packages\\matplotlib\\cbook\\deprecation.py:106: MatplotlibDeprecationWarning: Adding an axes using the same arguments as a previous axes currently reuses the earlier instance.  In a future version, a new instance will always be created and returned.  Meanwhile, this warning can be suppressed, and the future behavior ensured, by passing a unique label to each axes instance.\n",
      "  warnings.warn(message, mplDeprecation, stacklevel=1)\n"
     ]
    },
    {
     "data": {
      "image/png": "[encoded data removed]",
      "text/plain": [
       "<matplotlib.figure.Figure at 0x20aef5f5358>"
      ]
     },
     "metadata": {},
     "output_type": "display_data"
    }
   ],
   "source": [
    "# import pandas as pd\n",
    "import numpy as np\n",
    "import matplotlib.pyplot as plt\n",
    "import statsmodels.formula.api as smf\n",
    "#data取得\n",
    "all_data = pd.read_csv('all_data.csv', encoding = \"shift-jis\")\n",
    "print(all_data)\n",
    "\n",
    "#\n",
    "\n",
    "#売上パターンに意味はあるか。分散を見よう。分散が低く安定して傾向のある部分を知りたい。\n",
    "#売上パターン1:売上数TOP100\n",
    "#売上パターン2:売上数最頻値\n",
    "#売上パターン3:売上数低いところ\n",
    "\n",
    "\n",
    "    #INOUT（2パターン）\n",
    "        #業種カテゴリ(10パターン)ーー飲料カテゴリを含むバープロットに気温を重ねる\n",
    "            #飲料カテゴリ(10パターン)ーー凡例飲料カテゴリの散布図\n",
    "\n",
    "\n",
    "#気温パターン１:単純気温、10℃刻み5℃ずつずらす、←〇\n",
    "#気温パターン２:前日+10℃以上変化した周り7日間の売上カテゴリの推移　平均のカテゴリ、分散も\n",
    "#気温パターン３:\n",
    "\n",
    "\n",
    "\n",
    "\n",
    "\n",
    "\n",
    "cate_list = all_data['飲料カテゴリ'].unique()\n",
    "cate_data_x = []\n",
    "cate_data_y = []\n",
    "for name in cate_list:\n",
    "    cate_data_x.append(all_data['気温'][all_data['飲料カテゴリ'] == name])\n",
    "    cate_data_y.append(all_data['売上'][all_data['飲料カテゴリ'] == name])\n",
    "    \n",
    "\n",
    "#作図\n",
    "fig = plt.figure()\n",
    "ax = fig.add_subplot(1,1,1)\n",
    "colorlist = [\"r\", \"g\", \"b\", \"c\", \"m\", \"y\", \"k\", \"w\"]\n",
    "poly2_result = []\n",
    "ax = fig.add_subplot(1,1,1)\n",
    "for i in range(len(cate_list)):\n",
    "    #カテゴリ別多項回帰\n",
    "    X = pd.DataFrame({'X':cate_data_x[i].values,'X^2':np.square(cate_data_x[i].values)})\n",
    "    Y = pd.DataFrame({'Y':cate_data_y[i].values})\n",
    "    model = smf.OLS(Y,X)\n",
    "    result = model.fit()\n",
    "    #print(result.summary())\n",
    "    poly2_result.append(result.rsquared)\n",
    "    \n",
    "    #作図\n",
    "    a='aaa'+str(cate_list[i])\n",
    "    ax.scatter(cate_data_x[i],cate_data_y[i],c = colorlist[i],alpha=0.5,label=str(cate_list[i])+' R^2:'+str(round(result.rsquared,3)))\n",
    "    \n",
    "    \n",
    "print(poly2_result)\n",
    "ax.legend(loc='upper center')\n",
    "ax.set_title('scatter plot')\n",
    "ax.set_xlabel(\"temp\")\n",
    "ax.set_ylabel(\"sales\")\n",
    "\n",
    "plt.savefig('figure.png')\n",
    "    \n",
    " "
   ]
  }
 ],
 "metadata": {
  "kernelspec": {
   "display_name": "Python 3",
   "language": "python",
   "name": "python3"
  },
  "language_info": {
   "codemirror_mode": {
    "name": "ipython",
    "version": 3
   },
   "file_extension": ".py",
   "mimetype": "text/x-python",
   "name": "python",
   "nbconvert_exporter": "python",
   "pygments_lexer": "ipython3",
   "version": "3.6.4"
  }
 },
 "nbformat": 4,
 "nbformat_minor": 2
}
